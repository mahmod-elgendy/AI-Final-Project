{
  "nbformat": 4,
  "nbformat_minor": 0,
  "metadata": {
    "colab": {
      "provenance": []
    },
    "kernelspec": {
      "name": "python3",
      "display_name": "Python 3"
    },
    "language_info": {
      "name": "python"
    }
  },
  "cells": [
    {
      "cell_type": "markdown",
      "source": [
        "**genetic**"
      ],
      "metadata": {
        "id": "WoymG7mWo6r9"
      }
    },
    {
      "cell_type": "code",
      "source": [
        "import numpy as np\n",
        "import matplotlib.pyplot as plt\n",
        "import random\n",
        "\n",
        "# Grid\n",
        "grid_size = 50  # Adjust grid size to 50x50\n",
        "grid = np.zeros((grid_size, grid_size))\n",
        "\n",
        "# Buildings and obstacles\n",
        "building_size = 5\n",
        "for i in range(5, grid_size - 5, building_size + 5):\n",
        "    for j in range(5, grid_size - 5, building_size + 5):\n",
        "        grid[i:i+building_size, j:j+building_size] = 1\n",
        "\n",
        "# Additional random obstacles\n",
        "np.random.seed(0)\n",
        "for _ in range(150):\n",
        "    x, y = np.random.randint(0, grid_size, size=2)\n",
        "    grid[x, y] = 1\n",
        "\n",
        "# Start and goal positions\n",
        "start = (0, 0)\n",
        "goal = (grid_size - 1, grid_size - 1)\n",
        "grid[start] = -1\n",
        "grid[goal] = -2\n",
        "\n",
        "# Visualization Function\n",
        "def plot_grid(grid, path=None):\n",
        "    plt.imshow(grid, cmap=\"gray_r\")\n",
        "    plt.scatter(*start[::-1], color=\"green\", label=\"Start\")\n",
        "    plt.scatter(*goal[::-1], color=\"red\", label=\"Goal\")\n",
        "\n",
        "    if path:\n",
        "        path = np.array(path)\n",
        "        plt.plot(path[:, 1], path[:, 0], color=\"blue\", linewidth=2)\n",
        "\n",
        "    plt.legend()\n",
        "    plt.show()\n",
        "\n",
        "#  Fitness function\n",
        "def fitness(path, grid, goal):\n",
        "    if not path:\n",
        "        return float(\"inf\")\n",
        "\n",
        "    path_length = len(path)\n",
        "    collisions = sum(1 for x, y in path if grid[x, y] == 1)  # collisions\n",
        "    dist_to_goal = np.linalg.norm(np.array(path[-1]) - np.array(goal))  # Distance to goal\n",
        "    return path_length + collisions * 100 + dist_to_goal  # Weighted fitness\n",
        "\n",
        "# Generate a random path\n",
        "def generate_random_path(start, goal, grid_size, max_steps=100):\n",
        "    path = [start]\n",
        "    for _ in range(max_steps):\n",
        "        x, y = path[-1]\n",
        "        neighbors = [\n",
        "            (x + dx, y + dy)\n",
        "            for dx, dy in [(-1, 0), (1, 0), (0, -1), (0, 1)]\n",
        "            if 0 <= x + dx < grid_size and 0 <= y + dy < grid_size\n",
        "        ]\n",
        "        if not neighbors:\n",
        "            break\n",
        "        path.append(random.choice(neighbors))\n",
        "        if path[-1] == goal:\n",
        "            break\n",
        "    return path\n",
        "\n",
        "# Crossover\n",
        "def crossover(path1, path2):\n",
        "    split_point = min(len(path1), len(path2)) // 2\n",
        "    child1 = path1[:split_point] + path2[split_point:]\n",
        "    child2 = path2[:split_point] + path1[split_point:]\n",
        "    return child1, child2\n",
        "\n",
        "# Mutation\n",
        "def mutate(path, grid_size, mutation_rate=0.1):\n",
        "    if random.random() < mutation_rate:\n",
        "        idx = random.randint(0, len(path) - 1)\n",
        "        x, y = path[idx]\n",
        "        neighbors = [\n",
        "            (x + dx, y + dy)\n",
        "            for dx, dy in [(-1, 0), (1, 0), (0, -1), (0, 1)]\n",
        "            if 0 <= x + dx < grid_size and 0 <= y + dy < grid_size\n",
        "        ]\n",
        "        if neighbors:\n",
        "            path[idx] = random.choice(neighbors)\n",
        "\n",
        "# Evolve the population\n",
        "def evolve_population(population, grid, goal, grid_size, retain=0.2, mutate_rate=0.1):\n",
        "    # Calculate fitness\n",
        "    graded = [(fitness(path, grid, goal), path) for path in population]\n",
        "    graded = sorted(graded, key=lambda x: x[0])\n",
        "    retain_len = int(len(graded) * retain)\n",
        "\n",
        "    # Select parents\n",
        "    parents = [x[1] for x in graded[:retain_len]]\n",
        "\n",
        "    # Add random individuals for diversity\n",
        "    for _ in range(len(graded) - retain_len):\n",
        "        if random.random() < 0.05:\n",
        "            parents.append(random.choice([x[1] for x in graded]))\n",
        "\n",
        "    # Generate children\n",
        "    children = []\n",
        "    while len(children) < len(population) - len(parents):\n",
        "        p1, p2 = random.sample(parents, 2)\n",
        "        child1, child2 = crossover(p1, p2)\n",
        "        children.append(child1)\n",
        "        children.append(child2)\n",
        "\n",
        "    # Apply mutation\n",
        "    for child in children:\n",
        "        mutate(child, grid_size, mutate_rate)\n",
        "\n",
        "    # New population\n",
        "    population = parents + children[: len(population) - len(parents)]\n",
        "    return population, graded[0]\n",
        "\n",
        "# Initialize population\n",
        "def initialize_population(start, goal, grid_size, population_size, max_steps):\n",
        "    return [\n",
        "        generate_random_path(start, goal, grid_size, max_steps)\n",
        "        for _ in range(population_size)\n",
        "    ]\n",
        "\n",
        "# Main Genetic Algorithm function\n",
        "def genetic_algorithm(grid, start, goal, grid_size, generations=100, population_size=50, max_steps=100):\n",
        "    population = initialize_population(start, goal, grid_size, population_size, max_steps)\n",
        "    best_path = None\n",
        "\n",
        "    for generation in range(generations):\n",
        "        population, best = evolve_population(population, grid, goal, grid_size)\n",
        "        best_path = best[1]\n",
        "        print(f\"Generation {generation + 1}, Best fitness: {best[0]}\")\n",
        "\n",
        "        if best_path[-1] == goal:\n",
        "            break\n",
        "\n",
        "    return best_path\n",
        "\n",
        "# Parameters\n",
        "generations = 50\n",
        "population_size = 100\n",
        "max_steps = 100\n",
        "\n",
        "# Run the Genetic Algorithm for the best path\n",
        "best_path = genetic_algorithm(grid, start, goal, grid_size, generations, population_size, max_steps)\n",
        "\n",
        "# Visualize path\n",
        "print(\"Best path found:\")\n",
        "plot_grid(grid, best_path)\n"
      ],
      "metadata": {
        "id": "hurj8PH7XXCX",
        "colab": {
          "base_uri": "https://localhost:8080/",
          "height": 1000
        },
        "outputId": "8b17b92a-cc89-467f-e545-3a7930331df3"
      },
      "execution_count": null,
      "outputs": [
        {
          "output_type": "stream",
          "name": "stdout",
          "text": [
            "Generation 1, Best fitness: 163.3698645180507\n",
            "Generation 2, Best fitness: 163.3698645180507\n",
            "Generation 3, Best fitness: 163.3698645180507\n",
            "Generation 4, Best fitness: 163.3698645180507\n",
            "Generation 5, Best fitness: 163.3698645180507\n",
            "Generation 6, Best fitness: 163.3698645180507\n",
            "Generation 7, Best fitness: 163.3698645180507\n",
            "Generation 8, Best fitness: 163.3698645180507\n",
            "Generation 9, Best fitness: 163.3698645180507\n",
            "Generation 10, Best fitness: 163.3698645180507\n",
            "Generation 11, Best fitness: 163.3698645180507\n",
            "Generation 12, Best fitness: 163.3698645180507\n",
            "Generation 13, Best fitness: 163.3698645180507\n",
            "Generation 14, Best fitness: 163.3698645180507\n",
            "Generation 15, Best fitness: 163.3698645180507\n",
            "Generation 16, Best fitness: 163.3698645180507\n",
            "Generation 17, Best fitness: 163.3698645180507\n",
            "Generation 18, Best fitness: 163.3698645180507\n",
            "Generation 19, Best fitness: 162.71709649683788\n",
            "Generation 20, Best fitness: 162.71709649683788\n",
            "Generation 21, Best fitness: 162.71709649683788\n",
            "Generation 22, Best fitness: 162.71709649683788\n",
            "Generation 23, Best fitness: 162.71709649683788\n",
            "Generation 24, Best fitness: 162.71709649683788\n",
            "Generation 25, Best fitness: 162.71709649683788\n",
            "Generation 26, Best fitness: 162.71709649683788\n",
            "Generation 27, Best fitness: 162.71709649683788\n",
            "Generation 28, Best fitness: 162.71709649683788\n",
            "Generation 29, Best fitness: 162.71709649683788\n",
            "Generation 30, Best fitness: 162.71709649683788\n",
            "Generation 31, Best fitness: 162.71709649683788\n",
            "Generation 32, Best fitness: 162.71709649683788\n",
            "Generation 33, Best fitness: 162.71709649683788\n",
            "Generation 34, Best fitness: 162.71709649683788\n",
            "Generation 35, Best fitness: 161.9590026165127\n",
            "Generation 36, Best fitness: 161.9590026165127\n",
            "Generation 37, Best fitness: 161.9590026165127\n",
            "Generation 38, Best fitness: 161.9590026165127\n",
            "Generation 39, Best fitness: 161.9590026165127\n",
            "Generation 40, Best fitness: 161.9590026165127\n",
            "Generation 41, Best fitness: 161.9590026165127\n",
            "Generation 42, Best fitness: 161.9590026165127\n",
            "Generation 43, Best fitness: 161.9590026165127\n",
            "Generation 44, Best fitness: 161.9590026165127\n",
            "Generation 45, Best fitness: 161.9590026165127\n",
            "Generation 46, Best fitness: 161.9590026165127\n",
            "Generation 47, Best fitness: 161.9590026165127\n",
            "Generation 48, Best fitness: 161.9590026165127\n",
            "Generation 49, Best fitness: 161.3075451332584\n",
            "Generation 50, Best fitness: 161.3075451332584\n",
            "Best path found:\n"
          ]
        },
        {
          "output_type": "display_data",
          "data": {
            "text/plain": [
              "<Figure size 640x480 with 1 Axes>"
            ],
            "image/png": "[encoded data removed]"
          },
          "metadata": {}
        }
      ]
    },
    {
      "cell_type": "markdown",
      "source": [
        " **A***"
      ],
      "metadata": {
        "id": "PLqBVNQhXexD"
      }
    },
    {
      "cell_type": "code",
      "execution_count": null,
      "metadata": {
        "id": "FECFlXjMq9Yv",
        "colab": {
          "base_uri": "https://localhost:8080/",
          "height": 487
        },
        "outputId": "8de9cc9a-6d87-4042-cb2e-c54cdcab9777"
      },
      "outputs": [
        {
          "output_type": "stream",
          "name": "stdout",
          "text": [
            "Path found: [(0, 0), (1, 0), (2, 0), (3, 0), (3, 1), (4, 1), (5, 1), (5, 2), (5, 3), (6, 3), (6, 4), (7, 4), (8, 4), (9, 4), (10, 4), (11, 4), (12, 4), (13, 4), (14, 4), (14, 5), (14, 6), (14, 7), (14, 8), (14, 9), (14, 10), (15, 10), (16, 10), (16, 11), (17, 11), (18, 11), (19, 11), (19, 12), (20, 12), (21, 12), (21, 13), (21, 14), (21, 15), (21, 16), (21, 17), (21, 18), (21, 19), (22, 19), (22, 20), (22, 21), (22, 22), (22, 23), (22, 24), (22, 25), (22, 26), (22, 27), (22, 28), (22, 29), (22, 30), (22, 31), (22, 32), (22, 33), (22, 34), (22, 35), (22, 36), (22, 37), (22, 38), (22, 39), (23, 39), (24, 39), (24, 40), (24, 41), (25, 41), (25, 42), (26, 42), (27, 42), (28, 42), (29, 42), (29, 43), (30, 43), (31, 43), (32, 43), (33, 43), (33, 44), (34, 44), (34, 45), (34, 46), (35, 46), (35, 47), (36, 47), (37, 47), (37, 48), (38, 48), (39, 48), (40, 48), (41, 48), (42, 48), (43, 48), (44, 48), (45, 48), (46, 48), (47, 48), (48, 48), (49, 48), (49, 49)]\n",
            "Total nodes explored: 936\n"
          ]
        },
        {
          "output_type": "display_data",
          "data": {
            "text/plain": [
              "<Figure size 640x480 with 1 Axes>"
            ],
            "image/png": "[encoded data removed]"
          },
          "metadata": {}
        }
      ],
      "source": [
        "import heapq\n",
        "import numpy as np\n",
        "import matplotlib.pyplot as plt\n",
        "\n",
        "class Node:\n",
        "    def __init__(self, position, parent=None, g=0, h=0):\n",
        "        self.position = position\n",
        "        self.parent = parent\n",
        "        self.g = g  # start to curr\n",
        "        self.h = h  # curr to goal\n",
        "        self.f = g + h  # Total cost\n",
        "\n",
        "    def __lt__(self, other):\n",
        "        return self.f < other.f\n",
        "\n",
        "def heuristic(position, goal, heuristic_type=\"manhattan\"):\n",
        "    x1, y1 = position\n",
        "    x2, y2 = goal\n",
        "    if heuristic_type == \"manhattan\":\n",
        "        return abs(x1 - x2) + abs(y1 - y2)\n",
        "    elif heuristic_type == \"euclidean\":\n",
        "        return ((x1 - x2) ** 2 + (y1 - y2) ** 2) ** 0.5\n",
        "\n",
        "def get_neighbors(node, grid_size, grid):\n",
        "    x, y = node.position\n",
        "    neighbors = []\n",
        "    for dx, dy in [(-1, 0), (1, 0), (0, -1), (0, 1)]:\n",
        "        nx, ny = x + dx, y + dy\n",
        "        if 0 <= nx < grid_size and 0 <= ny < grid_size and grid[nx, ny] != 1:  # Check if within bounds and not an obstacle\n",
        "            neighbors.append((nx, ny))\n",
        "    return neighbors\n",
        "\n",
        "def a_star(start, goal, grid_size, grid, heuristic_type=\"manhattan\"):\n",
        "    open_list = []\n",
        "    closed_set = set()\n",
        "    explored_nodes = []\n",
        "\n",
        "    start_node = Node(start, g=0, h=heuristic(start, goal, heuristic_type))\n",
        "    heapq.heappush(open_list, start_node)\n",
        "\n",
        "    while open_list:\n",
        "        current_node = heapq.heappop(open_list)\n",
        "\n",
        "        if current_node.position == goal:\n",
        "            path = []\n",
        "            while current_node:\n",
        "                path.append(current_node.position)\n",
        "                current_node = current_node.parent\n",
        "            return path[::-1], len(closed_set), explored_nodes  # Path, explored nodes\n",
        "\n",
        "        closed_set.add(current_node.position)\n",
        "        explored_nodes.append(current_node.position)\n",
        "\n",
        "        for neighbor_pos in get_neighbors(current_node, grid_size, grid):\n",
        "            if neighbor_pos in closed_set:\n",
        "                continue\n",
        "\n",
        "            g_cost = current_node.g + 1\n",
        "            h_cost = heuristic(neighbor_pos, goal, heuristic_type)\n",
        "            neighbor_node = Node(neighbor_pos, parent=current_node, g=g_cost, h=h_cost)\n",
        "\n",
        "            if all(neighbor_node.position != open_node.position or neighbor_node.f < open_node.f for open_node in open_list):\n",
        "                heapq.heappush(open_list, neighbor_node)\n",
        "\n",
        "    return None, len(closed_set), explored_nodes  # No path found\n",
        "\n",
        "def plot_grid(grid, start, goal, path=None):\n",
        "    plt.imshow(grid, cmap=\"gray_r\")\n",
        "    plt.scatter(*start[::-1], color=\"green\", label=\"Start\")\n",
        "    plt.scatter(*goal[::-1], color=\"red\", label=\"Goal\")\n",
        "\n",
        "    if path:\n",
        "        path = np.array(path)\n",
        "        plt.plot(path[:, 1], path[:, 0], color=\"blue\", linewidth=2)\n",
        "\n",
        "    plt.legend()\n",
        "    plt.show()\n",
        "\n",
        "# Define parameters\n",
        "grid_size = 50  # Modify the grid size\n",
        "grid = np.zeros((grid_size, grid_size))\n",
        "\n",
        "# Create obstacles in the grid\n",
        "building_size = 5\n",
        "for i in range(5, grid_size - 5, building_size + 5):\n",
        "    for j in range(5, grid_size - 5, building_size + 5):\n",
        "        grid[i:i+building_size, j:j+building_size] = 1\n",
        "\n",
        "# Additional random obstacles\n",
        "np.random.seed(0)\n",
        "for _ in range(150):\n",
        "    x, y = np.random.randint(0, grid_size, size=2)\n",
        "    grid[x, y] = 1\n",
        "\n",
        "# Define start and goal positions\n",
        "start_position = (0, 0)\n",
        "goal_position = (grid_size - 1, grid_size - 1)\n",
        "grid[start_position] = -1  # Mark start\n",
        "grid[goal_position] = -2  # Mark goal\n",
        "\n",
        "# Run A* algorithm\n",
        "path, explored_nodes, explored_positions = a_star(start_position, goal_position, grid_size, grid, heuristic_type=\"manhattan\")\n",
        "\n",
        "print(\"Path found:\", path)\n",
        "print(\"Total nodes explored:\", explored_nodes)\n",
        "\n",
        "# Visualize the search\n",
        "plot_grid(grid, start_position, goal_position, path)\n"
      ]
    },
    {
      "cell_type": "markdown",
      "source": [
        "Greedy Algorithm"
      ],
      "metadata": {
        "id": "wdKDYm1e6Y7d"
      }
    },
    {
      "cell_type": "code",
      "source": [
        "import heapq\n",
        "import numpy as np\n",
        "import matplotlib.pyplot as plt\n",
        "\n",
        "class Node:\n",
        "    def __init__(self, position, parent=None, h=0):\n",
        "        self.position = position\n",
        "        self.parent = parent\n",
        "        self.h = h  # Heuristic cost\n",
        "\n",
        "    def __lt__(self, other):\n",
        "        return self.h < other.h  # compare nodes by heuristic value\n",
        "\n",
        "# Calculating heuristic function\n",
        "def heuristic(position, goal, heuristic_type=\"manhattan\"):\n",
        "    x1, y1 = position\n",
        "    x2, y2 = goal\n",
        "    if heuristic_type == \"manhattan\":\n",
        "        return abs(x1 - x2) + abs(y1 - y2)\n",
        "    elif heuristic_type == \"euclidean\":\n",
        "        return ((x1 - x2) ** 2 + (y1 - y2) ** 2) ** 0.5\n",
        "\n",
        "\n",
        "def get_neighbors(node, grid_size, grid):\n",
        "    x, y = node.position\n",
        "    directions = [(-1, 0), (1, 0), (0, -1), (0, 1)]  # Possible moves: up, down, left, right\n",
        "    return [\n",
        "        (x + dx, y + dy)\n",
        "        for dx, dy in directions\n",
        "        if 0 <= x + dx < grid_size and 0 <= y + dy < grid_size and grid[x + dx, y + dy] != 1  # ensures the neighbour is not an obstacle as obstacles are marked as 1 and free space 0\n",
        "    ]\n",
        "\n",
        "\n",
        "\n",
        "def greedy_best_first_search(start, goal, grid_size, grid, heuristic_type=\"manhattan\"):\n",
        "    open_list = []   # priority queue for nodes to explore sorted by heuristic value\n",
        "    closed_set = set() # set of nodes that have been already visited\n",
        "    explored_nodes = [] # order which nodes are explored\n",
        "\n",
        "    # initialize the start node\n",
        "    start_node = Node(start, h=heuristic(start, goal, heuristic_type))\n",
        "    heapq.heappush(open_list, start_node)  # adds start node to open list\n",
        "\n",
        "    while open_list:\n",
        "        current_node = heapq.heappop(open_list)  # pops the node with the smallest h from the open list\n",
        "\n",
        "        # if goal is reached, reconstruct the path\n",
        "        if current_node.position == goal:\n",
        "            path = []\n",
        "            while current_node:\n",
        "                path.append(current_node.position)\n",
        "                current_node = current_node.parent\n",
        "            return path[::-1], len(closed_set), explored_nodes # return total explored nodes and the list of the nodes explored\n",
        "\n",
        "        closed_set.add(current_node.position) # adds the node to the explored set to avoid revisiting it\n",
        "        explored_nodes.append(current_node.position)\n",
        "\n",
        "        # iterates through all valid neighbouring positions\n",
        "        for neighbor_pos in get_neighbors(current_node, grid_size, grid):\n",
        "            if neighbor_pos in closed_set:\n",
        "                continue\n",
        "\n",
        "            # compute heuristic cost for the neighbor\n",
        "            h_cost = heuristic(neighbor_pos, goal, heuristic_type)\n",
        "            neighbor_node = Node(neighbor_pos, parent=current_node, h=h_cost)\n",
        "\n",
        "            # add valid neighbours to open list if they aren't already in it\n",
        "            heapq.heappush(open_list, neighbor_node)\n",
        "\n",
        "    return None, len(closed_set), explored_nodes  # No path found\n",
        "\n",
        "\n",
        "def plot_grid(grid, start, goal, path=None):\n",
        "    plt.imshow(grid, cmap=\"gray_r\") # display grid a 2D image\n",
        "    plt.scatter(*start[::-1], color=\"green\", label=\"Start\")\n",
        "    plt.scatter(*goal[::-1], color=\"red\", label=\"Goal\")\n",
        "\n",
        "    if path:\n",
        "        path = np.array(path)\n",
        "        plt.plot(path[:, 1], path[:, 0], color=\"blue\", linewidth=2)\n",
        "\n",
        "    plt.legend()\n",
        "    plt.show()\n",
        "\n",
        "# Define parameters\n",
        "grid_size = 50  # Modify the grid size\n",
        "grid = np.zeros((grid_size, grid_size))\n",
        "\n",
        "# Create obstacles in the grid\n",
        "building_size = 5\n",
        "for i in range(5, grid_size - 5, building_size + 5):\n",
        "    for j in range(5, grid_size - 5, building_size + 5):\n",
        "        grid[i:i+building_size, j:j+building_size] = 1\n",
        "\n",
        "# Additional random obstacles\n",
        "np.random.seed(0)\n",
        "for _ in range(150):\n",
        "    x, y = np.random.randint(0, grid_size, size=2)\n",
        "    grid[x, y] = 1\n",
        "\n",
        "# Define start and goal positions\n",
        "start_position = (0, 0)\n",
        "goal_position = (grid_size - 1, grid_size - 1)\n",
        "grid[start_position] = -1  # Mark start\n",
        "grid[goal_position] = -2  # Mark goal\n",
        "\n",
        "# printing the total explored nodes and the path for the Greedy algorithm\n",
        "path, explored_nodes, explored_positions = greedy_best_first_search(\n",
        "    start_position, goal_position, grid_size, grid, heuristic_type=\"manhattan\"\n",
        ")\n",
        "\n",
        "print(\"Greedy Best-First Search Path:\", path)\n",
        "print(\"Total nodes explored in Greedy Best-First Search:\", explored_nodes)\n",
        "\n",
        "# visualizing the greedy algorithm\n",
        "plot_grid(grid, start_position, goal_position, path)\n",
        "\n"
      ],
      "metadata": {
        "id": "2ArWt0qX6XT3",
        "colab": {
          "base_uri": "https://localhost:8080/",
          "height": 488
        },
        "outputId": "0d15ea5b-a2a8-4b5f-c8d7-54486a97cdb0"
      },
      "execution_count": null,
      "outputs": [
        {
          "output_type": "stream",
          "name": "stdout",
          "text": [
            "Greedy Best-First Search Path: [(0, 0), (1, 0), (2, 0), (3, 0), (4, 0), (5, 0), (6, 0), (7, 0), (8, 0), (8, 1), (9, 1), (10, 1), (10, 2), (10, 3), (11, 3), (12, 3), (13, 3), (14, 3), (15, 3), (16, 3), (17, 3), (18, 3), (19, 3), (20, 3), (21, 3), (22, 3), (23, 3), (23, 4), (24, 4), (25, 4), (26, 4), (27, 4), (28, 4), (29, 4), (30, 4), (30, 5), (30, 6), (31, 6), (32, 6), (33, 6), (34, 6), (34, 7), (34, 8), (34, 9), (34, 10), (35, 10), (36, 10), (37, 10), (38, 10), (39, 10), (40, 10), (41, 10), (42, 10), (43, 10), (44, 10), (45, 10), (46, 10), (47, 10), (48, 10), (49, 10), (49, 11), (49, 12), (49, 13), (49, 14), (49, 15), (49, 16), (49, 17), (49, 18), (49, 19), (49, 20), (49, 21), (49, 22), (49, 23), (49, 24), (49, 25), (49, 26), (49, 27), (49, 28), (48, 28), (48, 29), (48, 30), (49, 30), (49, 31), (49, 32), (48, 32), (48, 33), (48, 34), (47, 34), (47, 35), (47, 36), (48, 36), (48, 37), (49, 37), (49, 38), (49, 39), (49, 40), (49, 41), (49, 42), (49, 43), (49, 44), (49, 45), (49, 46), (49, 47), (49, 48), (49, 49)]\n",
            "Total nodes explored in Greedy Best-First Search: 108\n"
          ]
        },
        {
          "output_type": "display_data",
          "data": {
            "text/plain": [
              "<Figure size 640x480 with 1 Axes>"
            ],
            "image/png": "[encoded data removed]"
          },
          "metadata": {}
        }
      ]
    },
    {
      "cell_type": "markdown",
      "source": [
        "# **The Graph Plot**"
      ],
      "metadata": {
        "id": "snVaz7H332Gb"
      }
    },
    {
      "cell_type": "code",
      "source": [
        "import numpy as np\n",
        "import matplotlib.pyplot as plt\n",
        "from collections import deque\n",
        "\n",
        "grid_size = 40\n",
        "grid = np.zeros((grid_size, grid_size))\n",
        "\n",
        "building_size = 5\n",
        "for i in range(5, grid_size - 5, building_size + 5):\n",
        "    for j in range(5, grid_size - 5, building_size + 5):\n",
        "        grid[i:i+building_size, j:j+building_size] = 1\n",
        "\n",
        "# Additional random obstacles for minor roadblocks\n",
        "np.random.seed(0)\n",
        "for _ in range(150):\n",
        "    x, y = np.random.randint(0, grid_size, size=2)\n",
        "    grid[x, y] = 1\n",
        "\n",
        "start = (0, 0)\n",
        "goal = (grid_size - 1, grid_size - 1)\n",
        "grid[start] = -1\n",
        "grid[goal] = -2\n",
        "\n",
        "def plot_grid(grid, path=None):\n",
        "    plt.imshow(grid, cmap=\"gray_r\")\n",
        "    plt.scatter(*start[::-1], color=\"green\", label=\"Start\")\n",
        "    plt.scatter(*goal[::-1], color=\"red\", label=\"Goal\")\n",
        "\n",
        "    if path:\n",
        "        path = np.array(path)\n",
        "        plt.plot(path[:, 1], path[:, 0], color=\"blue\", linewidth=2)\n",
        "\n",
        "    plt.legend()\n",
        "    plt.show()\n",
        "\n",
        "plot_grid(grid)"
      ],
      "metadata": {
        "id": "sBpOaaAG4D6N",
        "colab": {
          "base_uri": "https://localhost:8080/",
          "height": 431
        },
        "outputId": "84353194-708a-4fe8-e87f-99e93ca509c2"
      },
      "execution_count": null,
      "outputs": [
        {
          "output_type": "display_data",
          "data": {
            "text/plain": [
              "<Figure size 640x480 with 1 Axes>"
            ],
            "image/png": "[encoded data removed]"
          },
          "metadata": {}
        }
      ]
    },
    {
      "cell_type": "markdown",
      "source": [
        "# **UCS**"
      ],
      "metadata": {
        "id": "GeYKO8cO5riB"
      }
    },
    {
      "cell_type": "code",
      "source": [
        "from queue import PriorityQueue\n",
        "\n",
        "def ucs(grid, start, goal):\n",
        "    rows, cols = len(grid), len(grid[0])\n",
        "    visited = set()\n",
        "    pq = PriorityQueue()\n",
        "    pq.put((0, start))  # Priority queue with cost and position\n",
        "    parent_map = {start: None}\n",
        "\n",
        "    while not pq.empty():\n",
        "        cost, node = pq.get()\n",
        "        if node == goal:\n",
        "            path = []\n",
        "            while node:\n",
        "                path.append(node)\n",
        "                node = parent_map[node]\n",
        "            return path[::-1]  # Reverse the path\n",
        "\n",
        "        if node not in visited:\n",
        "            visited.add(node)\n",
        "            x, y = node\n",
        "            directions = [(-1, 0), (1, 0), (0, -1), (0, 1)]\n",
        "            for dx, dy in directions:\n",
        "                nx, ny = x + dx, y + dy\n",
        "                if 0 <= nx < rows and 0 <= ny < cols and grid[nx, ny] != 1 and (nx, ny) not in visited:\n",
        "                    pq.put((cost + 1, (nx, ny)))  # Add 1 cost for each move\n",
        "                    parent_map[(nx, ny)] = node\n",
        "    return None"
      ],
      "metadata": {
        "id": "OsuF1hNp5vYQ"
      },
      "execution_count": null,
      "outputs": []
    },
    {
      "cell_type": "markdown",
      "source": [
        "# **IDS**"
      ],
      "metadata": {
        "id": "bR5zdJm_6hxg"
      }
    },
    {
      "cell_type": "code",
      "source": [
        "def ids(grid, start, goal, max_depth):\n",
        "    def dfs(node, depth, visited, path):\n",
        "        if depth > max_depth:\n",
        "            return None  # Stop if depth exceeds max depth\n",
        "        x, y = node\n",
        "        if node == goal:\n",
        "            return path\n",
        "        visited.add(node)\n",
        "        directions = [(-1, 0), (1, 0), (0, -1), (0, 1)]\n",
        "        for dx, dy in directions:\n",
        "            nx, ny = x + dx, y + dy\n",
        "            if 0 <= nx < len(grid) and 0 <= ny < len(grid[0]) and grid[nx, ny] != 1 and (nx, ny) not in visited:\n",
        "                result = dfs((nx, ny), depth + 1, visited, path + [(nx, ny)])\n",
        "                if result is not None:\n",
        "                    return result\n",
        "        return None\n",
        "\n",
        "    for depth in range(1, max_depth + 1):\n",
        "        visited = set()\n",
        "        path = dfs(start, 0, visited, [start])\n",
        "        if path is not None:\n",
        "            return path\n",
        "    return None\n"
      ],
      "metadata": {
        "id": "GA5gX_Xf6fVy"
      },
      "execution_count": null,
      "outputs": []
    },
    {
      "cell_type": "markdown",
      "source": [
        "# Hill climbing"
      ],
      "metadata": {
        "id": "OSYyH5uzfiw1"
      }
    },
    {
      "cell_type": "code",
      "source": [
        "import numpy as np\n",
        "\n",
        "class Node:\n",
        "    def __init__(self, state, parent=None):\n",
        "        self.state = state\n",
        "        self.parent = parent\n",
        "\n",
        "    def path(self):\n",
        "        # Trace back to the start node\n",
        "        path = []\n",
        "        current = self\n",
        "        while current:\n",
        "            path.append(current.state)\n",
        "            current = current.parent\n",
        "        return path[::-1]  # Reverse to get path from start to goal\n",
        "\n",
        "\n",
        "class Vehicle:\n",
        "    def __init__(self, grid, start, goal):\n",
        "        self.grid = grid\n",
        "        self.start = start\n",
        "        self.goal = goal\n",
        "\n",
        "    def actions(self, state):\n",
        "        # Possible moves: Up, Down, Left, Right\n",
        "        x, y = state\n",
        "        moves = [(-1, 0), (1, 0), (0, -1), (0, 1)]\n",
        "        return [\n",
        "            (dx, dy) for dx, dy in moves\n",
        "            if 0 <= x + dx < self.grid.shape[0]\n",
        "            and 0 <= y + dy < self.grid.shape[1]\n",
        "            and self.grid[x + dx, y + dy] == 0\n",
        "        ]\n",
        "\n",
        "    def result(self, state, action):\n",
        "        x, y = state\n",
        "        dx, dy = action\n",
        "        return x + dx, y + dy\n",
        "\n",
        "    def goal_test(self, state):\n",
        "        return state == self.goal\n",
        "\n",
        "    def heuristic(self, state):\n",
        "        # Manhattan distance to the goal\n",
        "        gx, gy = self.goal\n",
        "        sx, sy = state\n",
        "        return abs(gx - sx) + abs(gy - sy)\n"
      ],
      "metadata": {
        "id": "AzNIUAXRXJAz"
      },
      "execution_count": null,
      "outputs": []
    },
    {
      "cell_type": "code",
      "source": [
        "\n",
        "def hill_climbing(problem):\n",
        "    \"\"\"Hill Climbing search algorithm.\"\"\"\n",
        "    current = Node(problem.start)\n",
        "    while True:\n",
        "        # Generate all neighbors\n",
        "        neighbors = [\n",
        "            Node(problem.result(current.state, action), current)\n",
        "            for action in problem.actions(current.state)\n",
        "        ]\n",
        "        # If no neighbors are available, stop\n",
        "        if not neighbors:\n",
        "            break\n",
        "        # Select the neighbor with the lowest heuristic value\n",
        "        next_node = min(neighbors, key=lambda node: problem.heuristic(node.state))\n",
        "        # If no improvement is found, stop\n",
        "        if problem.heuristic(next_node.state) >= problem.heuristic(current.state):\n",
        "            break\n",
        "        # Move to the better neighbor\n",
        "        current = next_node\n",
        "    return current\n",
        "\n",
        "\n",
        "def plot_grid(grid, start, goal, path=None):\n",
        "    plt.imshow(grid, cmap=\"gray_r\")\n",
        "    plt.scatter(*start[::-1], color=\"green\", label=\"Start\")\n",
        "    plt.scatter(*goal[::-1], color=\"red\", label=\"Goal\")\n",
        "    if path:\n",
        "        path = np.array(path)\n",
        "        plt.plot(path[:, 1], path[:, 0], color=\"blue\", linewidth=2)\n",
        "    plt.legend()\n",
        "    plt.show()\n",
        "\n",
        "\n",
        "# grid Setup\n",
        "grid_size = 50\n",
        "grid = np.zeros((grid_size, grid_size))\n",
        "\n",
        "# Add obstacles to the grid\n",
        "building_size = 5\n",
        "for i in range(5, grid_size - 5, building_size + 5):\n",
        "    for j in range(5, grid_size - 5, building_size + 5):\n",
        "        grid[i:i + building_size, j:j + building_size] = 1\n",
        "\n",
        "# add random obstacles\n",
        "np.random.seed(0)\n",
        "for _ in range(150):\n",
        "    x, y = np.random.randint(0, grid_size, size=2)\n",
        "    grid[x, y] = 1\n",
        "\n",
        "# define start and goal positions\n",
        "start_position = (0, 0)\n",
        "goal_position = (grid_size - 1, grid_size - 1)\n",
        "\n",
        "# create the problem instance\n",
        "problem = Vehicle(grid, start_position, goal_position)\n",
        "\n",
        "# solve using hill climbing\n",
        "final_node = hill_climbing(problem)\n",
        "\n",
        "# retrieve the path from the final node\n",
        "path = final_node.path()\n",
        "\n",
        "# print results\n",
        "print(\"Hill Climbing Path:\", path)\n",
        "print(\"Total nodes explored in Hill Climbing:\", len(path))\n",
        "\n",
        "# visualize results\n",
        "plot_grid(grid, start_position, goal_position, path=path)\n",
        "\n"
      ],
      "metadata": {
        "id": "Ceq5NRz3fieB",
        "colab": {
          "base_uri": "https://localhost:8080/",
          "height": 467
        },
        "outputId": "234d996c-406a-4502-f82c-54fb46e342b2"
      },
      "execution_count": null,
      "outputs": [
        {
          "output_type": "stream",
          "name": "stdout",
          "text": [
            "Hill Climbing Path: [(0, 0), (1, 0), (2, 0), (3, 0), (4, 0), (5, 0), (6, 0), (7, 0), (8, 0), (8, 1), (9, 1), (10, 1), (11, 1)]\n",
            "Total nodes explored in Hill Climbing: 13\n"
          ]
        },
        {
          "output_type": "display_data",
          "data": {
            "text/plain": [
              "<Figure size 640x480 with 1 Axes>"
            ],
            "image/png": "[encoded data removed]"
          },
          "metadata": {}
        }
      ]
    },
    {
      "cell_type": "markdown",
      "source": [
        "# **Simulated Annealing**"
      ],
      "metadata": {
        "id": "I_voxus9S9ma"
      }
    },
    {
      "cell_type": "code",
      "source": [
        "import random\n",
        "import math\n",
        "\n",
        "def simulated_annealing(grid, start, goal, initial_temp=1000, cooling_rate=0.995, max_iterations=10000):\n",
        "    current_path = [start]\n",
        "    current_cost = len(current_path)\n",
        "    best_path = current_path[:]\n",
        "    best_cost = current_cost\n",
        "    temperature = initial_temp\n",
        "\n",
        "    for iteration in range(max_iterations):\n",
        "        # Generate a neighboring path by slightly modifying the current path\n",
        "        neighbors = [neighbor for neighbor in get_neighbors(grid, current_path[-1]) if neighbor not in current_path]\n",
        "        if not neighbors:\n",
        "            continue\n",
        "        next_step = random.choice(neighbors)\n",
        "        new_path = current_path + [next_step]\n",
        "        new_cost = len(new_path)\n",
        "\n",
        "        # Acceptance formula\n",
        "        if new_cost < current_cost or random.random() < math.exp(-(new_cost - current_cost) / temperature):\n",
        "            current_path = new_path\n",
        "            current_cost = new_cost\n",
        "\n",
        "            # Update the best path\n",
        "            if current_cost < best_cost:\n",
        "                best_path = current_path\n",
        "                best_cost = current_cost\n",
        "\n",
        "        temperature *= cooling_rate\n",
        "\n",
        "        # Stop if goal is reached\n",
        "        if current_path[-1] == goal:\n",
        "            break\n",
        "\n",
        "    return best_path if best_path[-1] == goal else None\n",
        "\n",
        "def get_neighbors(grid, cell):\n",
        "    x, y = cell\n",
        "    directions = [(-1, 0), (1, 0), (0, -1), (0, 1)]\n",
        "    return [(x + dx, y + dy) for dx, dy in directions if 0 <= x + dx < grid_size and 0 <= y + dy < grid_size and grid[x + dx, y + dy] != 1]"
      ],
      "metadata": {
        "id": "FDu5V0DATBSv"
      },
      "execution_count": null,
      "outputs": []
    },
    {
      "cell_type": "markdown",
      "source": [
        "# **BFS**"
      ],
      "metadata": {
        "id": "tqHV1r3rv3iB"
      }
    },
    {
      "cell_type": "code",
      "source": [
        "import collections\n",
        "\n",
        "def BFS(grid, start, goal):\n",
        "  queue = collections.deque([(start, [start])])\n",
        "  visited = []\n",
        "  visited.append(start)\n",
        "\n",
        "  while queue:\n",
        "      (x, y), path = queue.popleft()\n",
        "      if (x,y) == goal:\n",
        "          return path\n",
        "\n",
        "      neighbors = [(x+1, y), (x-1, y), (x, y+1), (x, y-1)]\n",
        "      for n in neighbors:\n",
        "          if n[0] < 0 or n[0] >= grid_size or n[1] < 0 or n[1] >= grid_size:\n",
        "              continue\n",
        "          if grid[n] == 1 or n in visited:\n",
        "              continue\n",
        "          queue.append((n, path + [n]))\n",
        "          visited.append(n)\n",
        "\n",
        "path = BFS(grid, start, goal)\n",
        "print(path)\n",
        "plot_grid(grid, path)"
      ],
      "metadata": {
        "id": "AnYttO1qv7kP",
        "colab": {
          "base_uri": "https://localhost:8080/",
          "height": 468
        },
        "outputId": "22c8f828-2671-4c67-b5b1-1b368ca3e1a2"
      },
      "execution_count": null,
      "outputs": [
        {
          "output_type": "stream",
          "name": "stdout",
          "text": [
            "[(0, 0), (1, 0), (2, 0), (3, 0), (4, 0), (5, 0), (6, 0), (7, 0), (8, 0), (8, 1), (9, 1), (10, 1), (11, 1), (11, 2), (12, 2), (13, 2), (14, 2), (15, 2), (16, 2), (17, 2), (18, 2), (19, 2), (20, 2), (21, 2), (22, 2), (22, 3), (22, 4), (23, 4), (24, 4), (25, 4), (26, 4), (27, 4), (28, 4), (29, 4), (30, 4), (30, 5), (30, 6), (31, 6), (32, 6), (33, 6), (34, 6), (34, 7), (34, 8), (34, 9), (34, 10), (34, 11), (34, 12), (35, 12), (36, 12), (36, 13), (37, 13), (37, 14), (37, 15), (37, 16), (37, 17), (37, 18), (37, 19), (37, 20), (38, 20), (38, 21), (38, 22), (38, 23), (38, 24), (38, 25), (38, 26), (38, 27), (38, 28), (38, 29), (38, 30), (38, 31), (38, 32), (38, 33), (39, 33), (39, 34), (39, 35), (39, 36), (39, 37), (39, 38), (39, 39)]\n"
          ]
        },
        {
          "output_type": "display_data",
          "data": {
            "text/plain": [
              "<Figure size 640x480 with 1 Axes>"
            ],
            "image/png": "[encoded data removed]"
          },
          "metadata": {}
        }
      ]
    },
    {
      "cell_type": "markdown",
      "source": [
        "# **DFS**"
      ],
      "metadata": {
        "id": "mGFvEwsIt5U9"
      }
    },
    {
      "cell_type": "code",
      "source": [
        "def DFS(grid, start, goal):\n",
        "    stack = [(start, [start])]\n",
        "    visited = set()\n",
        "\n",
        "    while stack:\n",
        "        (x, y), path = stack.pop()\n",
        "        visited.add((x, y))\n",
        "\n",
        "        if (x, y) == goal:\n",
        "            return path\n",
        "\n",
        "        for dx, dy in [(0, 1), (0, -1), (1, 0), (-1, 0)]:\n",
        "            nx, ny = x + dx, y + dy\n",
        "\n",
        "            if (0 <= nx < grid_size and 0 <= ny < grid_size and\n",
        "                    grid[nx, ny] != 1 and (nx, ny) not in visited):\n",
        "                stack.append(((nx, ny), path + [(nx, ny)]))\n",
        "\n",
        "\n",
        "plot_grid(grid ,DFS(grid, start, goal))"
      ],
      "metadata": {
        "id": "F5INfXqOt9aI",
        "colab": {
          "base_uri": "https://localhost:8080/",
          "height": 431
        },
        "outputId": "82b89f55-7290-4ab6-aa04-ace55c869329"
      },
      "execution_count": null,
      "outputs": [
        {
          "output_type": "display_data",
          "data": {
            "text/plain": [
              "<Figure size 640x480 with 1 Axes>"
            ],
            "image/png": "[encoded data removed]"
          },
          "metadata": {}
        }
      ]
    },
    {
      "cell_type": "markdown",
      "source": [
        "# **Main Menu**"
      ],
      "metadata": {
        "id": "5xpsoxYw7FHt"
      }
    },
    {
      "cell_type": "code",
      "source": [
        "def main_menu():\n",
        "    while True:\n",
        "        print(\"Select the algorithm to use: \")\n",
        "        print(\"1. UCS (Uniform Cost Search)\")\n",
        "        print(\"2. IDS (Iterative Deepening Search)\")\n",
        "        print(\"3. Simulated Annealing\")\n",
        "        print(\"4. DFS\")\n",
        "        print(\"5. BFS\")\n",
        "        print(\"6. Exit\")\n",
        "        choice = input(\"Enter the number of your choice: \")\n",
        "\n",
        "        if choice == \"1\":\n",
        "            print(\"Running UCS...\")\n",
        "            path = ucs(grid, start, goal)\n",
        "            if path:\n",
        "                print(\"Path found using UCS!\")\n",
        "                plot_grid(grid, path)\n",
        "            else:\n",
        "                print(\"No path found using UCS.\")\n",
        "\n",
        "        elif choice == \"2\":\n",
        "            print(\"Running IDS...\")\n",
        "            path = ids(grid, start, goal, max_depth=100)\n",
        "            if path:\n",
        "                print(\"Path found using IDS!\")\n",
        "                plot_grid(grid, path)\n",
        "            else:\n",
        "                print(\"No path found using IDS.\")\n",
        "\n",
        "        elif choice == \"3\":\n",
        "            print(\"Running Simulated Annealing...\")\n",
        "            path = simulated_annealing(grid, start, goal)\n",
        "            if path:\n",
        "                print(\"Path found using Simulated Annealing!\")\n",
        "                plot_grid(grid, path)\n",
        "            else:\n",
        "                print(\"No path found using Simulated Annealing.\")\n",
        "\n",
        "        elif choice == \"4\":\n",
        "            print(\"Running DFS...\")\n",
        "            path = DFS(grid, start, goal)\n",
        "            if path:\n",
        "                print(\"Path found using DFS!\")\n",
        "                plot_grid(grid, path)\n",
        "            else:\n",
        "                print(\"No path found using DFS.\")\n",
        "\n",
        "        elif choice == \"5\":\n",
        "            print(\"Running BFS...\")\n",
        "            path = BFS(grid, start, goal)\n",
        "            if path:\n",
        "                print(\"Path found using BFS!\")\n",
        "                plot_grid(grid, path)\n",
        "            else:\n",
        "                print(\"No path found using BFS.\")\n",
        "\n",
        "        elif choice == \"6\":\n",
        "            print(\"Exiting...\")\n",
        "            break\n",
        "        else:\n",
        "            print(\"Invalid choice. Please enter 1, 2, 3, 4, 5 or 6.\")\n",
        "\n",
        "main_menu()"
      ],
      "metadata": {
        "id": "GxMjkv4h6w42",
        "colab": {
          "base_uri": "https://localhost:8080/"
        },
        "outputId": "335a3203-fc57-4c01-ff8a-1d4c7f2c3be0"
      },
      "execution_count": null,
      "outputs": [
        {
          "metadata": {
            "tags": null
          },
          "name": "stdout",
          "output_type": "stream",
          "text": [
            "Select the algorithm to use: \n",
            "1. UCS (Uniform Cost Search)\n",
            "2. IDS (Iterative Deepening Search)\n",
            "3. Simulated Annealing\n",
            "4. DFS\n",
            "5. BFS\n",
            "6. Exit\n"
          ]
        }
      ]
    }
  ]
}